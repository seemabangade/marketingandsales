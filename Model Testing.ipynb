{
 "cells": [
  {
   "cell_type": "code",
   "execution_count": 2,
   "id": "8c7f9cec-23ab-43c4-a355-f44d439eb23b",
   "metadata": {},
   "outputs": [],
   "source": [
    "import numpy as np\n",
    "import pickle\n",
    "import json\n",
    "import warnings\n",
    "warnings.filterwarnings('ignore')"
   ]
  },
  {
   "cell_type": "markdown",
   "id": "b8b4a3a2-ecf7-4812-b207-22c4a64f4ae2",
   "metadata": {},
   "source": [
    "### Load Model"
   ]
  },
  {
   "cell_type": "code",
   "execution_count": 3,
   "id": "14f829a3-2664-415b-92db-04a4ed9746e1",
   "metadata": {},
   "outputs": [],
   "source": [
    "with open(\"linear_regression_model_on_MarketingAndSalesData.pkl\", 'rb') as f:\n",
    "    model = pickle.load(f)"
   ]
  },
  {
   "cell_type": "code",
   "execution_count": 4,
   "id": "459cc258-5c6d-4a14-a3d6-1d5c2060e30e",
   "metadata": {},
   "outputs": [
    {
     "data": {
      "text/plain": [
       "array(['TV', 'Radio', 'Social Media', 'Influencer_Macro',\n",
       "       'Influencer_Mega', 'Influencer_Micro', 'Influencer_Nano'],\n",
       "      dtype=object)"
      ]
     },
     "execution_count": 4,
     "metadata": {},
     "output_type": "execute_result"
    }
   ],
   "source": [
    "col_names = model.feature_names_in_\n",
    "col_names"
   ]
  },
  {
   "cell_type": "markdown",
   "id": "429a7ffb-cbae-4a2d-a505-2f6cad0508f9",
   "metadata": {},
   "source": [
    "### User Data"
   ]
  },
  {
   "cell_type": "code",
   "execution_count": 5,
   "id": "e7a672b4-712b-462d-96f0-eee7da4757ee",
   "metadata": {},
   "outputs": [
    {
     "name": "stdout",
     "output_type": "stream",
     "text": [
      "predicted_price : 56.89854417697796\n"
     ]
    }
   ],
   "source": [
    "\n",
    "\n",
    "tv = 16\n",
    "radio= 6.56\n",
    "socialmedia= 2.90\n",
    "Influencer= 'Mega'\n",
    "\n",
    "Influencer_index = np.where(col_names == 'Influencer_'+ Influencer)[0][0]\n",
    "\n",
    "test_array = np.zeros((1,model.n_features_in_))\n",
    "test_array[0,0] = tv\n",
    "test_array[0,1] = radio\n",
    "test_array[0,2] = socialmedia\n",
    "test_array[0,Influencer_index] = 1\n",
    "\n",
    "\n",
    "predicted_price = model.predict(test_array)[0]\n",
    "print(\"predicted_price :\",predicted_price)\n"
   ]
  },
  {
   "cell_type": "code",
   "execution_count": null,
   "id": "fc9238e9-cf69-49fb-8ac1-10a50bf9780c",
   "metadata": {},
   "outputs": [],
   "source": []
  }
 ],
 "metadata": {
  "kernelspec": {
   "display_name": "Python 3 (ipykernel)",
   "language": "python",
   "name": "python3"
  },
  "language_info": {
   "codemirror_mode": {
    "name": "ipython",
    "version": 3
   },
   "file_extension": ".py",
   "mimetype": "text/x-python",
   "name": "python",
   "nbconvert_exporter": "python",
   "pygments_lexer": "ipython3",
   "version": "3.11.5"
  }
 },
 "nbformat": 4,
 "nbformat_minor": 5
}
