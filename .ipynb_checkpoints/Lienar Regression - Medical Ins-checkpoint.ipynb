{
 "cells": [
  {
   "cell_type": "code",
   "execution_count": 48,
   "id": "6e169dab-46c9-4054-8dc1-ccf946bfad04",
   "metadata": {},
   "outputs": [],
   "source": [
    "import pandas as pd\n",
    "from sklearn.model_selection import train_test_split\n",
    "from sklearn.linear_model import LinearRegression"
   ]
  },
  {
   "cell_type": "code",
   "execution_count": 4,
   "id": "d695865b-d98b-4f51-8647-a7a356db9ec4",
   "metadata": {},
   "outputs": [
    {
     "data": {
      "text/html": [
       "<div>\n",
       "<style scoped>\n",
       "    .dataframe tbody tr th:only-of-type {\n",
       "        vertical-align: middle;\n",
       "    }\n",
       "\n",
       "    .dataframe tbody tr th {\n",
       "        vertical-align: top;\n",
       "    }\n",
       "\n",
       "    .dataframe thead th {\n",
       "        text-align: right;\n",
       "    }\n",
       "</style>\n",
       "<table border=\"1\" class=\"dataframe\">\n",
       "  <thead>\n",
       "    <tr style=\"text-align: right;\">\n",
       "      <th></th>\n",
       "      <th>age</th>\n",
       "      <th>gender</th>\n",
       "      <th>bmi</th>\n",
       "      <th>children</th>\n",
       "      <th>smoker</th>\n",
       "      <th>region</th>\n",
       "      <th>charges</th>\n",
       "    </tr>\n",
       "  </thead>\n",
       "  <tbody>\n",
       "    <tr>\n",
       "      <th>0</th>\n",
       "      <td>19</td>\n",
       "      <td>female</td>\n",
       "      <td>27.900</td>\n",
       "      <td>0</td>\n",
       "      <td>yes</td>\n",
       "      <td>southwest</td>\n",
       "      <td>16884.92400</td>\n",
       "    </tr>\n",
       "    <tr>\n",
       "      <th>1</th>\n",
       "      <td>18</td>\n",
       "      <td>male</td>\n",
       "      <td>33.770</td>\n",
       "      <td>1</td>\n",
       "      <td>no</td>\n",
       "      <td>southeast</td>\n",
       "      <td>1725.55230</td>\n",
       "    </tr>\n",
       "    <tr>\n",
       "      <th>2</th>\n",
       "      <td>28</td>\n",
       "      <td>male</td>\n",
       "      <td>33.000</td>\n",
       "      <td>3</td>\n",
       "      <td>no</td>\n",
       "      <td>southeast</td>\n",
       "      <td>4449.46200</td>\n",
       "    </tr>\n",
       "    <tr>\n",
       "      <th>3</th>\n",
       "      <td>33</td>\n",
       "      <td>male</td>\n",
       "      <td>22.705</td>\n",
       "      <td>0</td>\n",
       "      <td>no</td>\n",
       "      <td>northwest</td>\n",
       "      <td>21984.47061</td>\n",
       "    </tr>\n",
       "    <tr>\n",
       "      <th>4</th>\n",
       "      <td>32</td>\n",
       "      <td>male</td>\n",
       "      <td>28.880</td>\n",
       "      <td>0</td>\n",
       "      <td>no</td>\n",
       "      <td>northwest</td>\n",
       "      <td>3866.85520</td>\n",
       "    </tr>\n",
       "    <tr>\n",
       "      <th>...</th>\n",
       "      <td>...</td>\n",
       "      <td>...</td>\n",
       "      <td>...</td>\n",
       "      <td>...</td>\n",
       "      <td>...</td>\n",
       "      <td>...</td>\n",
       "      <td>...</td>\n",
       "    </tr>\n",
       "    <tr>\n",
       "      <th>1333</th>\n",
       "      <td>50</td>\n",
       "      <td>male</td>\n",
       "      <td>30.970</td>\n",
       "      <td>3</td>\n",
       "      <td>no</td>\n",
       "      <td>northwest</td>\n",
       "      <td>10600.54830</td>\n",
       "    </tr>\n",
       "    <tr>\n",
       "      <th>1334</th>\n",
       "      <td>18</td>\n",
       "      <td>female</td>\n",
       "      <td>31.920</td>\n",
       "      <td>0</td>\n",
       "      <td>no</td>\n",
       "      <td>northeast</td>\n",
       "      <td>2205.98080</td>\n",
       "    </tr>\n",
       "    <tr>\n",
       "      <th>1335</th>\n",
       "      <td>18</td>\n",
       "      <td>female</td>\n",
       "      <td>36.850</td>\n",
       "      <td>0</td>\n",
       "      <td>no</td>\n",
       "      <td>southeast</td>\n",
       "      <td>1629.83350</td>\n",
       "    </tr>\n",
       "    <tr>\n",
       "      <th>1336</th>\n",
       "      <td>21</td>\n",
       "      <td>female</td>\n",
       "      <td>25.800</td>\n",
       "      <td>0</td>\n",
       "      <td>no</td>\n",
       "      <td>southwest</td>\n",
       "      <td>2007.94500</td>\n",
       "    </tr>\n",
       "    <tr>\n",
       "      <th>1337</th>\n",
       "      <td>61</td>\n",
       "      <td>female</td>\n",
       "      <td>29.070</td>\n",
       "      <td>0</td>\n",
       "      <td>yes</td>\n",
       "      <td>northwest</td>\n",
       "      <td>29141.36030</td>\n",
       "    </tr>\n",
       "  </tbody>\n",
       "</table>\n",
       "<p>1338 rows × 7 columns</p>\n",
       "</div>"
      ],
      "text/plain": [
       "      age  gender     bmi  children smoker     region      charges\n",
       "0      19  female  27.900         0    yes  southwest  16884.92400\n",
       "1      18    male  33.770         1     no  southeast   1725.55230\n",
       "2      28    male  33.000         3     no  southeast   4449.46200\n",
       "3      33    male  22.705         0     no  northwest  21984.47061\n",
       "4      32    male  28.880         0     no  northwest   3866.85520\n",
       "...   ...     ...     ...       ...    ...        ...          ...\n",
       "1333   50    male  30.970         3     no  northwest  10600.54830\n",
       "1334   18  female  31.920         0     no  northeast   2205.98080\n",
       "1335   18  female  36.850         0     no  southeast   1629.83350\n",
       "1336   21  female  25.800         0     no  southwest   2007.94500\n",
       "1337   61  female  29.070         0    yes  northwest  29141.36030\n",
       "\n",
       "[1338 rows x 7 columns]"
      ]
     },
     "execution_count": 4,
     "metadata": {},
     "output_type": "execute_result"
    }
   ],
   "source": [
    "df = pd.read_csv('medical_insurance.csv')\n",
    "df"
   ]
  },
  {
   "cell_type": "code",
   "execution_count": 6,
   "id": "7317b8d9-a4cc-4d31-a38f-b5132299e287",
   "metadata": {},
   "outputs": [
    {
     "data": {
      "text/html": [
       "<div>\n",
       "<style scoped>\n",
       "    .dataframe tbody tr th:only-of-type {\n",
       "        vertical-align: middle;\n",
       "    }\n",
       "\n",
       "    .dataframe tbody tr th {\n",
       "        vertical-align: top;\n",
       "    }\n",
       "\n",
       "    .dataframe thead th {\n",
       "        text-align: right;\n",
       "    }\n",
       "</style>\n",
       "<table border=\"1\" class=\"dataframe\">\n",
       "  <thead>\n",
       "    <tr style=\"text-align: right;\">\n",
       "      <th></th>\n",
       "      <th>age</th>\n",
       "      <th>bmi</th>\n",
       "      <th>charges</th>\n",
       "    </tr>\n",
       "  </thead>\n",
       "  <tbody>\n",
       "    <tr>\n",
       "      <th>0</th>\n",
       "      <td>19</td>\n",
       "      <td>27.900</td>\n",
       "      <td>16884.92400</td>\n",
       "    </tr>\n",
       "    <tr>\n",
       "      <th>1</th>\n",
       "      <td>18</td>\n",
       "      <td>33.770</td>\n",
       "      <td>1725.55230</td>\n",
       "    </tr>\n",
       "    <tr>\n",
       "      <th>2</th>\n",
       "      <td>28</td>\n",
       "      <td>33.000</td>\n",
       "      <td>4449.46200</td>\n",
       "    </tr>\n",
       "    <tr>\n",
       "      <th>3</th>\n",
       "      <td>33</td>\n",
       "      <td>22.705</td>\n",
       "      <td>21984.47061</td>\n",
       "    </tr>\n",
       "    <tr>\n",
       "      <th>4</th>\n",
       "      <td>32</td>\n",
       "      <td>28.880</td>\n",
       "      <td>3866.85520</td>\n",
       "    </tr>\n",
       "    <tr>\n",
       "      <th>...</th>\n",
       "      <td>...</td>\n",
       "      <td>...</td>\n",
       "      <td>...</td>\n",
       "    </tr>\n",
       "    <tr>\n",
       "      <th>1333</th>\n",
       "      <td>50</td>\n",
       "      <td>30.970</td>\n",
       "      <td>10600.54830</td>\n",
       "    </tr>\n",
       "    <tr>\n",
       "      <th>1334</th>\n",
       "      <td>18</td>\n",
       "      <td>31.920</td>\n",
       "      <td>2205.98080</td>\n",
       "    </tr>\n",
       "    <tr>\n",
       "      <th>1335</th>\n",
       "      <td>18</td>\n",
       "      <td>36.850</td>\n",
       "      <td>1629.83350</td>\n",
       "    </tr>\n",
       "    <tr>\n",
       "      <th>1336</th>\n",
       "      <td>21</td>\n",
       "      <td>25.800</td>\n",
       "      <td>2007.94500</td>\n",
       "    </tr>\n",
       "    <tr>\n",
       "      <th>1337</th>\n",
       "      <td>61</td>\n",
       "      <td>29.070</td>\n",
       "      <td>29141.36030</td>\n",
       "    </tr>\n",
       "  </tbody>\n",
       "</table>\n",
       "<p>1338 rows × 3 columns</p>\n",
       "</div>"
      ],
      "text/plain": [
       "      age     bmi      charges\n",
       "0      19  27.900  16884.92400\n",
       "1      18  33.770   1725.55230\n",
       "2      28  33.000   4449.46200\n",
       "3      33  22.705  21984.47061\n",
       "4      32  28.880   3866.85520\n",
       "...   ...     ...          ...\n",
       "1333   50  30.970  10600.54830\n",
       "1334   18  31.920   2205.98080\n",
       "1335   18  36.850   1629.83350\n",
       "1336   21  25.800   2007.94500\n",
       "1337   61  29.070  29141.36030\n",
       "\n",
       "[1338 rows x 3 columns]"
      ]
     },
     "execution_count": 6,
     "metadata": {},
     "output_type": "execute_result"
    }
   ],
   "source": [
    "df = df[['age','bmi','charges']]\n",
    "df"
   ]
  },
  {
   "cell_type": "code",
   "execution_count": 47,
   "id": "76c489c5-fc26-441c-8cff-b13037d919d2",
   "metadata": {},
   "outputs": [
    {
     "data": {
      "text/html": [
       "<div>\n",
       "<style scoped>\n",
       "    .dataframe tbody tr th:only-of-type {\n",
       "        vertical-align: middle;\n",
       "    }\n",
       "\n",
       "    .dataframe tbody tr th {\n",
       "        vertical-align: top;\n",
       "    }\n",
       "\n",
       "    .dataframe thead th {\n",
       "        text-align: right;\n",
       "    }\n",
       "</style>\n",
       "<table border=\"1\" class=\"dataframe\">\n",
       "  <thead>\n",
       "    <tr style=\"text-align: right;\">\n",
       "      <th></th>\n",
       "      <th>age</th>\n",
       "      <th>bmi</th>\n",
       "    </tr>\n",
       "  </thead>\n",
       "  <tbody>\n",
       "    <tr>\n",
       "      <th>737</th>\n",
       "      <td>26</td>\n",
       "      <td>23.700</td>\n",
       "    </tr>\n",
       "    <tr>\n",
       "      <th>369</th>\n",
       "      <td>18</td>\n",
       "      <td>30.400</td>\n",
       "    </tr>\n",
       "    <tr>\n",
       "      <th>284</th>\n",
       "      <td>52</td>\n",
       "      <td>31.200</td>\n",
       "    </tr>\n",
       "    <tr>\n",
       "      <th>1302</th>\n",
       "      <td>25</td>\n",
       "      <td>20.800</td>\n",
       "    </tr>\n",
       "    <tr>\n",
       "      <th>958</th>\n",
       "      <td>43</td>\n",
       "      <td>34.960</td>\n",
       "    </tr>\n",
       "    <tr>\n",
       "      <th>...</th>\n",
       "      <td>...</td>\n",
       "      <td>...</td>\n",
       "    </tr>\n",
       "    <tr>\n",
       "      <th>1330</th>\n",
       "      <td>57</td>\n",
       "      <td>25.740</td>\n",
       "    </tr>\n",
       "    <tr>\n",
       "      <th>1016</th>\n",
       "      <td>19</td>\n",
       "      <td>24.605</td>\n",
       "    </tr>\n",
       "    <tr>\n",
       "      <th>165</th>\n",
       "      <td>47</td>\n",
       "      <td>28.215</td>\n",
       "    </tr>\n",
       "    <tr>\n",
       "      <th>7</th>\n",
       "      <td>37</td>\n",
       "      <td>27.740</td>\n",
       "    </tr>\n",
       "    <tr>\n",
       "      <th>219</th>\n",
       "      <td>24</td>\n",
       "      <td>23.210</td>\n",
       "    </tr>\n",
       "  </tbody>\n",
       "</table>\n",
       "<p>1070 rows × 2 columns</p>\n",
       "</div>"
      ],
      "text/plain": [
       "      age     bmi\n",
       "737    26  23.700\n",
       "369    18  30.400\n",
       "284    52  31.200\n",
       "1302   25  20.800\n",
       "958    43  34.960\n",
       "...   ...     ...\n",
       "1330   57  25.740\n",
       "1016   19  24.605\n",
       "165    47  28.215\n",
       "7      37  27.740\n",
       "219    24  23.210\n",
       "\n",
       "[1070 rows x 2 columns]"
      ]
     },
     "execution_count": 47,
     "metadata": {},
     "output_type": "execute_result"
    }
   ],
   "source": [
    "x = df.drop('charges',axis = 1) # ind\n",
    "y = df['charges'] # dep\n",
    "x_train, x_test, y_train, y_test = train_test_split(x,y,test_size=0.2, random_state=40)\n",
    "x_train"
   ]
  },
  {
   "cell_type": "code",
   "execution_count": 50,
   "id": "bf893d0e-2fc5-4952-b9f4-e31b06aee999",
   "metadata": {},
   "outputs": [
    {
     "data": {
      "text/plain": [
       "737      3484.33100\n",
       "369      3481.86800\n",
       "284      9625.92000\n",
       "1302     3208.78700\n",
       "958     41034.22140\n",
       "           ...     \n",
       "1330    12629.16560\n",
       "1016     2709.24395\n",
       "165     10407.08585\n",
       "7        7281.50560\n",
       "219     25081.76784\n",
       "Name: charges, Length: 1070, dtype: float64"
      ]
     },
     "execution_count": 50,
     "metadata": {},
     "output_type": "execute_result"
    }
   ],
   "source": [
    "y_train"
   ]
  },
  {
   "cell_type": "code",
   "execution_count": null,
   "id": "8ebd4e97-1128-4986-b28a-e172a02bdc82",
   "metadata": {},
   "outputs": [],
   "source": []
  },
  {
   "cell_type": "markdown",
   "id": "93b854d8-1ff8-4543-a099-58b151fc74c7",
   "metadata": {},
   "source": [
    "### Model Training"
   ]
  },
  {
   "cell_type": "code",
   "execution_count": 51,
   "id": "a884525c-3677-46ff-beb2-a5db540ed15d",
   "metadata": {},
   "outputs": [
    {
     "data": {
      "text/html": [
       "<style>#sk-container-id-2 {color: black;}#sk-container-id-2 pre{padding: 0;}#sk-container-id-2 div.sk-toggleable {background-color: white;}#sk-container-id-2 label.sk-toggleable__label {cursor: pointer;display: block;width: 100%;margin-bottom: 0;padding: 0.3em;box-sizing: border-box;text-align: center;}#sk-container-id-2 label.sk-toggleable__label-arrow:before {content: \"▸\";float: left;margin-right: 0.25em;color: #696969;}#sk-container-id-2 label.sk-toggleable__label-arrow:hover:before {color: black;}#sk-container-id-2 div.sk-estimator:hover label.sk-toggleable__label-arrow:before {color: black;}#sk-container-id-2 div.sk-toggleable__content {max-height: 0;max-width: 0;overflow: hidden;text-align: left;background-color: #f0f8ff;}#sk-container-id-2 div.sk-toggleable__content pre {margin: 0.2em;color: black;border-radius: 0.25em;background-color: #f0f8ff;}#sk-container-id-2 input.sk-toggleable__control:checked~div.sk-toggleable__content {max-height: 200px;max-width: 100%;overflow: auto;}#sk-container-id-2 input.sk-toggleable__control:checked~label.sk-toggleable__label-arrow:before {content: \"▾\";}#sk-container-id-2 div.sk-estimator input.sk-toggleable__control:checked~label.sk-toggleable__label {background-color: #d4ebff;}#sk-container-id-2 div.sk-label input.sk-toggleable__control:checked~label.sk-toggleable__label {background-color: #d4ebff;}#sk-container-id-2 input.sk-hidden--visually {border: 0;clip: rect(1px 1px 1px 1px);clip: rect(1px, 1px, 1px, 1px);height: 1px;margin: -1px;overflow: hidden;padding: 0;position: absolute;width: 1px;}#sk-container-id-2 div.sk-estimator {font-family: monospace;background-color: #f0f8ff;border: 1px dotted black;border-radius: 0.25em;box-sizing: border-box;margin-bottom: 0.5em;}#sk-container-id-2 div.sk-estimator:hover {background-color: #d4ebff;}#sk-container-id-2 div.sk-parallel-item::after {content: \"\";width: 100%;border-bottom: 1px solid gray;flex-grow: 1;}#sk-container-id-2 div.sk-label:hover label.sk-toggleable__label {background-color: #d4ebff;}#sk-container-id-2 div.sk-serial::before {content: \"\";position: absolute;border-left: 1px solid gray;box-sizing: border-box;top: 0;bottom: 0;left: 50%;z-index: 0;}#sk-container-id-2 div.sk-serial {display: flex;flex-direction: column;align-items: center;background-color: white;padding-right: 0.2em;padding-left: 0.2em;position: relative;}#sk-container-id-2 div.sk-item {position: relative;z-index: 1;}#sk-container-id-2 div.sk-parallel {display: flex;align-items: stretch;justify-content: center;background-color: white;position: relative;}#sk-container-id-2 div.sk-item::before, #sk-container-id-2 div.sk-parallel-item::before {content: \"\";position: absolute;border-left: 1px solid gray;box-sizing: border-box;top: 0;bottom: 0;left: 50%;z-index: -1;}#sk-container-id-2 div.sk-parallel-item {display: flex;flex-direction: column;z-index: 1;position: relative;background-color: white;}#sk-container-id-2 div.sk-parallel-item:first-child::after {align-self: flex-end;width: 50%;}#sk-container-id-2 div.sk-parallel-item:last-child::after {align-self: flex-start;width: 50%;}#sk-container-id-2 div.sk-parallel-item:only-child::after {width: 0;}#sk-container-id-2 div.sk-dashed-wrapped {border: 1px dashed gray;margin: 0 0.4em 0.5em 0.4em;box-sizing: border-box;padding-bottom: 0.4em;background-color: white;}#sk-container-id-2 div.sk-label label {font-family: monospace;font-weight: bold;display: inline-block;line-height: 1.2em;}#sk-container-id-2 div.sk-label-container {text-align: center;}#sk-container-id-2 div.sk-container {/* jupyter's `normalize.less` sets `[hidden] { display: none; }` but bootstrap.min.css set `[hidden] { display: none !important; }` so we also need the `!important` here to be able to override the default hidden behavior on the sphinx rendered scikit-learn.org. See: https://github.com/scikit-learn/scikit-learn/issues/21755 */display: inline-block !important;position: relative;}#sk-container-id-2 div.sk-text-repr-fallback {display: none;}</style><div id=\"sk-container-id-2\" class=\"sk-top-container\"><div class=\"sk-text-repr-fallback\"><pre>LinearRegression()</pre><b>In a Jupyter environment, please rerun this cell to show the HTML representation or trust the notebook. <br />On GitHub, the HTML representation is unable to render, please try loading this page with nbviewer.org.</b></div><div class=\"sk-container\" hidden><div class=\"sk-item\"><div class=\"sk-estimator sk-toggleable\"><input class=\"sk-toggleable__control sk-hidden--visually\" id=\"sk-estimator-id-2\" type=\"checkbox\" checked><label for=\"sk-estimator-id-2\" class=\"sk-toggleable__label sk-toggleable__label-arrow\">LinearRegression</label><div class=\"sk-toggleable__content\"><pre>LinearRegression()</pre></div></div></div></div></div>"
      ],
      "text/plain": [
       "LinearRegression()"
      ]
     },
     "execution_count": 51,
     "metadata": {},
     "output_type": "execute_result"
    }
   ],
   "source": [
    "model = LinearRegression() # instantiating Linear regression model.\n",
    "model.fit(x_train, y_train) # Gradient Descent Algorithm"
   ]
  },
  {
   "cell_type": "code",
   "execution_count": 52,
   "id": "e0a9d977-f0c2-44b6-b257-7cf693b7e4db",
   "metadata": {},
   "outputs": [
    {
     "data": {
      "text/plain": [
       "array([243.32433073, 326.22704377])"
      ]
     },
     "execution_count": 52,
     "metadata": {},
     "output_type": "execute_result"
    }
   ],
   "source": [
    "model.coef_ # slope values (m >> m1 and m2)"
   ]
  },
  {
   "cell_type": "code",
   "execution_count": 53,
   "id": "dbca167e-c892-4101-b304-cb980a6d29a0",
   "metadata": {},
   "outputs": [
    {
     "data": {
      "text/plain": [
       "-6279.673338427163"
      ]
     },
     "execution_count": 53,
     "metadata": {},
     "output_type": "execute_result"
    }
   ],
   "source": [
    "model.intercept_ # c value"
   ]
  },
  {
   "cell_type": "code",
   "execution_count": null,
   "id": "571c2b44-7bba-4f39-8489-1d8027afcdb7",
   "metadata": {},
   "outputs": [],
   "source": []
  },
  {
   "cell_type": "code",
   "execution_count": 57,
   "id": "ad860cab-96aa-4d5f-8f46-751422e7b1e7",
   "metadata": {},
   "outputs": [
    {
     "data": {
      "text/plain": [
       "7131.181999999999"
      ]
     },
     "execution_count": 57,
     "metadata": {},
     "output_type": "execute_result"
    }
   ],
   "source": [
    "x1 = 24\n",
    "x2 = 23.210\n",
    "y1 = 243.32 * x1 + 326.2 * x2 + -6279.6\n",
    "y1"
   ]
  },
  {
   "cell_type": "code",
   "execution_count": 61,
   "id": "a2452d6d-d829-4dde-9343-99ae781a3bd5",
   "metadata": {},
   "outputs": [
    {
     "data": {
      "text/plain": [
       "array([10891.89214777, 10552.25087561, 15799.64754564, 17664.68543056,\n",
       "        6254.28953741, 11759.04042538, 18215.3135122 , 11825.63178623,\n",
       "       16423.67671212, 12138.88971177, 15247.18310917, 16686.04959183,\n",
       "       19281.58554261, 16392.68514297, 17236.55241736, 11251.88262841,\n",
       "       12168.94576805, 18216.57950078, 15048.13931989, 10560.85166185,\n",
       "       17266.48321755,  7914.21482397, 10801.84923503, 13963.1945088 ,\n",
       "       18328.06706191,  7025.73653242, 18614.86167731,  7932.64771411,\n",
       "       12186.60307233, 14556.10685003, 10722.49397555, 13205.16174218,\n",
       "       12630.14659577, 17755.04819735,  5135.25081375,  6281.93887261,\n",
       "       19025.41734973, 14331.62584866, 15056.21503247, 20339.90711653,\n",
       "       12843.2549432 , 17830.85600328, 13687.4526933 , 13284.76751385,\n",
       "        7000.7791014 , 14126.95836045,  8990.76406842,  9587.55433892,\n",
       "       10706.59306258, 15405.56315243, 19069.53796415,  7492.81157126,\n",
       "       14136.17480551, 16555.59344524, 12821.97022184,  6622.84613336,\n",
       "       12659.06191956, 10713.40278657, 15468.03669348, 10793.69355893,\n",
       "       10117.59332154,  7706.20510181,  9268.42220227, 22721.36453608,\n",
       "        8467.24962668,  9833.57057385, 16253.62821014,  7825.92830254,\n",
       "       16511.96323355, 13434.6614053 ,  8451.1434941 ,  6015.57342921,\n",
       "       12963.10340003, 12101.0084551 ,  4988.24342444, 12018.26566908,\n",
       "       15326.77825919, 14450.69871963, 17879.99527945,  9984.41059984,\n",
       "        8322.77421454, 11329.7666797 , 17133.14056882,  8152.15534632,\n",
       "       19020.03354134, 10868.28066885,  8200.51903664, 14201.13503115,\n",
       "       15684.48727486, 12953.88695496, 14034.02894555, 18578.48629976,\n",
       "       15165.58105565, 11566.40654253, 12367.57911812, 10078.81122292,\n",
       "        6829.30468381, 13480.01333738, 10477.09339945, 13849.3002266 ,\n",
       "       14663.03148121, 16268.71886633, 22244.29746631, 13787.23712477,\n",
       "       15582.05623177, 12408.07231546, 20955.54071638, 14146.97709322,\n",
       "       18587.2123421 , 12806.06930887,  7681.4528904 ,  5688.49083607,\n",
       "       16273.04190574,  8211.85701966, 13396.90540473, 17695.96218284,\n",
       "       18317.50466474, 12047.18099288, 11234.0653971 , 18599.77102112,\n",
       "        7286.22776471, 12131.18976748, 21947.27092946, 19847.87464668,\n",
       "        7445.22346679,  9838.82912614, 19123.28546286,  7228.85284892,\n",
       "       16281.27754535,  5671.89430076, 16704.5971164 , 19250.59397345,\n",
       "       10203.14264619,  7730.7520936 ,  6820.21349484, 19535.10712387,\n",
       "       18043.18876485, 22094.6434654 , 17908.74005456, 19394.25912881,\n",
       "       11279.53196362, 13624.40878601, 12932.11183087, 13691.00014686,\n",
       "       16792.10805198, 10808.78421512, 14307.03356428, 10750.22327427,\n",
       "       11618.39764992,  8242.35818608, 12404.39960581, 10265.17107709,\n",
       "       19121.16392491, 17902.67124549,  6878.72914311,  7246.79533633,\n",
       "       16980.25896839, 22917.10076234, 16280.01155677, 13990.43340479,\n",
       "       17603.43258551,  9696.19006883, 14063.91445315, 12941.73871516,\n",
       "       15261.32763083, 12674.96283253, 13547.38028409,  8502.84941837,\n",
       "       14664.29746979, 11953.63591916, 12524.61320927, 12855.52843909,\n",
       "       11540.83345269,  9467.83113819, 13163.32259273, 11794.64021707,\n",
       "       10645.87591284,  8360.4502516 ,  9144.86636485, 17883.62269652,\n",
       "       11521.14519562,  6457.40585391,  6051.1732209 , 13579.59254925,\n",
       "       12591.85489988, 17043.50809529, 10588.13585043, 11346.12332447,\n",
       "       15441.16294412, 11053.37453444,  9947.54481956,  9116.85188301,\n",
       "       12188.10895145, 13834.20957041, 11027.8014446 , 12600.50097871,\n",
       "        5719.48240523, 14812.11511588,  5006.67631458, 11538.75720732,\n",
       "       11421.47539859, 12049.95286058,  9322.4548841 , 19986.44117677,\n",
       "       11209.59836882, 10590.78246204, 14725.79020538, 20532.9514386 ,\n",
       "        9118.56298174, 13230.73483202, 17793.990223  , 21624.30615612,\n",
       "       14301.15935316, 20572.30390346,  8136.82479959, 11211.67461418,\n",
       "       14076.02802203, 16962.7269202 ,  8578.57726078, 17671.28993495,\n",
       "       11335.64089082, 10354.3931114 , 17106.26681946,  8282.56620031,\n",
       "        8287.17442285, 10941.96693682, 20125.00770686,  5811.19112412,\n",
       "       11207.06639165, 12193.49275984, 11782.85712391, 11228.27114949,\n",
       "       19406.81780782, 11554.49819327, 10269.36886041, 16842.79849986,\n",
       "       14856.85138913, 11712.84356559, 16195.31778148,  7321.8275564 ,\n",
       "        8725.6646136 ,  9722.00304921, 15810.0047232 ,  8801.91752967,\n",
       "       15758.21883541, 17747.74807063, 11622.51546973,  8327.38243708,\n",
       "        7422.75272036, 20735.98779159, 11599.18917393, 17159.52391544,\n",
       "       12060.35533072, 14175.11683116, 12866.29605587, 18633.29456745,\n",
       "       10379.51046944, 10090.14920594, 16580.71080328,  8490.29073935,\n",
       "       20947.17982068, 12480.57255836, 17350.89180971,  9856.56639394,\n",
       "       17682.50266187, 14719.14040841,  7277.01131964,  9667.97036738])"
      ]
     },
     "execution_count": 61,
     "metadata": {},
     "output_type": "execute_result"
    }
   ],
   "source": [
    "model.predict(x_test)"
   ]
  },
  {
   "cell_type": "code",
   "execution_count": null,
   "id": "7018154b-290a-49fb-949a-4a8dd15fe6bc",
   "metadata": {},
   "outputs": [],
   "source": []
  },
  {
   "cell_type": "markdown",
   "id": "85bd7d4e-8656-44dd-ae48-da4e0f280a8d",
   "metadata": {},
   "source": [
    "### Website for Datasets"
   ]
  },
  {
   "cell_type": "code",
   "execution_count": null,
   "id": "6a442d0b-c9b7-46c9-8038-cf68ef6e29f6",
   "metadata": {},
   "outputs": [],
   "source": [
    "Kaggle.com"
   ]
  }
 ],
 "metadata": {
  "kernelspec": {
   "display_name": "Python 3 (ipykernel)",
   "language": "python",
   "name": "python3"
  },
  "language_info": {
   "codemirror_mode": {
    "name": "ipython",
    "version": 3
   },
   "file_extension": ".py",
   "mimetype": "text/x-python",
   "name": "python",
   "nbconvert_exporter": "python",
   "pygments_lexer": "ipython3",
   "version": "3.11.6"
  }
 },
 "nbformat": 4,
 "nbformat_minor": 5
}
