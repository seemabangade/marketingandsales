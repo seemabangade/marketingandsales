{
 "cells": [
  {
   "cell_type": "code",
   "execution_count": 28,
   "id": "8c7f9cec-23ab-43c4-a355-f44d439eb23b",
   "metadata": {},
   "outputs": [],
   "source": [
    "import numpy as np\n",
    "import pickle\n",
    "import json\n",
    "import warnings\n",
    "warnings.filterwarnings('ignore')"
   ]
  },
  {
   "cell_type": "markdown",
   "id": "b8b4a3a2-ecf7-4812-b207-22c4a64f4ae2",
   "metadata": {},
   "source": [
    "### Load Model"
   ]
  },
  {
   "cell_type": "code",
   "execution_count": 8,
   "id": "14f829a3-2664-415b-92db-04a4ed9746e1",
   "metadata": {},
   "outputs": [],
   "source": [
    "with open(\"linear_regression_model.pkl\", 'rb') as f:\n",
    "    model = pickle.load(f)\n",
    "\n",
    "with open(\"column_data.json\", 'r') as f:\n",
    "    col_data = json.load(f)"
   ]
  },
  {
   "cell_type": "code",
   "execution_count": 18,
   "id": "459cc258-5c6d-4a14-a3d6-1d5c2060e30e",
   "metadata": {},
   "outputs": [],
   "source": [
    "col_names = model.feature_names_in_"
   ]
  },
  {
   "cell_type": "markdown",
   "id": "429a7ffb-cbae-4a2d-a505-2f6cad0508f9",
   "metadata": {},
   "source": [
    "### User Data"
   ]
  },
  {
   "cell_type": "code",
   "execution_count": 34,
   "id": "e7a672b4-712b-462d-96f0-eee7da4757ee",
   "metadata": {},
   "outputs": [
    {
     "name": "stdout",
     "output_type": "stream",
     "text": [
      "predicted_price : 11552.64691561073\n"
     ]
    }
   ],
   "source": [
    "age = 55 \n",
    "gender = 'female'\n",
    "bmi = 27.900\n",
    "children = 1\n",
    "smoker = 'no'\n",
    "region = 'northwest'\n",
    "\n",
    "# region = 'region_'+ region\n",
    "region_index = np.where(col_names == 'region_'+ region)[0][0]\n",
    "# print(\"region_index\",region_index)\n",
    "\n",
    "gender = col_data['gender'][gender]\n",
    "smoker = col_data['smoker'][smoker]\n",
    "\n",
    "test_array = np.zeros((1,model.n_features_in_))\n",
    "test_array[0,0] = age\n",
    "test_array[0,1] = gender\n",
    "test_array[0,2] = bmi\n",
    "test_array[0,3] = children\n",
    "test_array[0,4] = smoker\n",
    "test_array[0,region_index] = 1\n",
    "\n",
    "predicted_price = model.predict(test_array)[0]\n",
    "print(\"predicted_price :\",predicted_price)"
   ]
  }
 ],
 "metadata": {
  "kernelspec": {
   "display_name": "Python 3 (ipykernel)",
   "language": "python",
   "name": "python3"
  },
  "language_info": {
   "codemirror_mode": {
    "name": "ipython",
    "version": 3
   },
   "file_extension": ".py",
   "mimetype": "text/x-python",
   "name": "python",
   "nbconvert_exporter": "python",
   "pygments_lexer": "ipython3",
   "version": "3.11.6"
  }
 },
 "nbformat": 4,
 "nbformat_minor": 5
}
